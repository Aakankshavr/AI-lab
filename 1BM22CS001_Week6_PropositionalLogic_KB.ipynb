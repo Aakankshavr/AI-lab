{
  "nbformat": 4,
  "nbformat_minor": 0,
  "metadata": {
    "colab": {
      "provenance": [],
      "authorship_tag": "ABX9TyO3vAvEvvoK8JcNoWGIzXzq",
      "include_colab_link": true
    },
    "kernelspec": {
      "name": "python3",
      "display_name": "Python 3"
    },
    "language_info": {
      "name": "python"
    }
  },
  "cells": [
    {
      "cell_type": "markdown",
      "metadata": {
        "id": "view-in-github",
        "colab_type": "text"
      },
      "source": [
        "<a href=\"https://colab.research.google.com/github/Aakankshavr/AI-lab/blob/main/1BM22CS001_Week6_PropositionalLogic_KB.ipynb\" target=\"_parent\"><img src=\"https://colab.research.google.com/assets/colab-badge.svg\" alt=\"Open In Colab\"/></a>"
      ]
    },
    {
      "cell_type": "code",
      "source": [
        "from itertools import product\n",
        "\n",
        "def parse_expression(expression, symbols):\n",
        "\n",
        "    expression = expression.replace(\"implies\", \"or not\")\n",
        "    expression = expression.replace(\"and\", \"and\")\n",
        "    expression = expression.replace(\"or\", \"or\")\n",
        "    expression = expression.replace(\"not\", \"not\")\n",
        "\n",
        "\n",
        "    for symbol in symbols:\n",
        "        expression = expression.replace(symbol, f\"values['{symbol}']\")\n",
        "\n",
        "    return eval(\"lambda values: \" + expression)\n",
        "\n",
        "def generate_truth_table(symbols):\n",
        "\n",
        "    return [dict(zip(symbols, values)) for values in product([True, False], repeat=len(symbols))]\n",
        "\n",
        "def check_entailment(kb_expr, alpha_expr, symbols):\n",
        "    kb_lambda = parse_expression(kb_expr, symbols)\n",
        "    alpha_lambda = parse_expression(alpha_expr, symbols)\n",
        "\n",
        "    truth_table = generate_truth_table(symbols)\n",
        "    entails = True\n",
        "\n",
        "\n",
        "    print(\"Truth Table:\")\n",
        "    print(f\"{' '.join(symbols)} | KB | alpha\")\n",
        "    print(\"-\" * (len(symbols) * 5 + 15))\n",
        "\n",
        "    for row in truth_table:\n",
        "        kb_value = kb_lambda(row)\n",
        "        alpha_value = alpha_lambda(row)\n",
        "\n",
        "        print(f\"{' '.join(str(row[symbol]) for symbol in symbols)} | {kb_value} | {alpha_value}\")\n",
        "\n",
        "\n",
        "        if kb_value and not alpha_value:\n",
        "            entails = False\n",
        "\n",
        "    return entails\n",
        "\n",
        "\n",
        "kb_expr = input(\"Enter the KB expression (use 'and', 'or', 'not', 'implies' for ->): \")\n",
        "alpha_expr = input(\"Enter the alpha (query) expression: \")\n",
        "\n",
        "\n",
        "symbols = sorted(set(kb_expr.replace(\"and\", \"\").replace(\"or\", \"\").replace(\"not\", \"\").replace(\"(\", \"\").replace(\")\", \"\").replace(\"implies\", \"\").split()) |\n",
        "                 set(alpha_expr.replace(\"and\", \"\").replace(\"or\", \"\").replace(\"not\", \"\").replace(\"(\", \"\").replace(\")\", \"\").replace(\"implies\", \"\").split()))\n",
        "\n",
        "\n",
        "entails = check_entailment(kb_expr, alpha_expr, symbols)\n",
        "print(\"\\nKB entails alpha:\" if entails else \"\\nKB does not entail alpha.\")\n"
      ],
      "metadata": {
        "id": "eiGpKeAmw9K4"
      },
      "execution_count": null,
      "outputs": []
    }
  ]
}