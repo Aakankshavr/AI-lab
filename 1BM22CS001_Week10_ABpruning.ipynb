{
  "nbformat": 4,
  "nbformat_minor": 0,
  "metadata": {
    "colab": {
      "provenance": [],
      "authorship_tag": "ABX9TyOvNTP1Y+5vbgs34iqhdTAg",
      "include_colab_link": true
    },
    "kernelspec": {
      "name": "python3",
      "display_name": "Python 3"
    },
    "language_info": {
      "name": "python"
    }
  },
  "cells": [
    {
      "cell_type": "markdown",
      "metadata": {
        "id": "view-in-github",
        "colab_type": "text"
      },
      "source": [
        "<a href=\"https://colab.research.google.com/github/Aakankshavr/AI-lab/blob/main/1BM22CS001_Week10_ABpruning.ipynb\" target=\"_parent\"><img src=\"https://colab.research.google.com/assets/colab-badge.svg\" alt=\"Open In Colab\"/></a>"
      ]
    },
    {
      "cell_type": "code",
      "execution_count": 3,
      "metadata": {
        "colab": {
          "base_uri": "https://localhost:8080/"
        },
        "id": "YAOhmMF_uElD",
        "outputId": "a60942b4-32da-4a5c-8aa8-aa515cb942de"
      },
      "outputs": [
        {
          "output_type": "stream",
          "name": "stdout",
          "text": [
            "Building a binary tree for Alpha-Beta Pruning.\n",
            "Enter the depth of the tree (e.g., 2 or 3): 3\n",
            "Enter values for 8 leaf nodes:\n",
            "Leaf 1 value: 10\n",
            "Leaf 2 value: 9\n",
            "Leaf 3 value: 14\n",
            "Leaf 4 value: 18\n",
            "Leaf 5 value: 5\n",
            "Leaf 6 value: 4\n",
            "Leaf 7 value: 50\n",
            "Leaf 8 value: 3\n",
            "Optimal Value: 10\n"
          ]
        }
      ],
      "source": [
        "class Node:\n",
        "    \"\"\"\n",
        "    Represents a node in the tree.\n",
        "    \"\"\"\n",
        "    def __init__(self, value=None, children=None):\n",
        "        self.value = value\n",
        "        self.children = children if children else [] 1\n",
        "\n",
        "\n",
        "def max_value(node, alpha, beta):\n",
        "    \"\"\"\n",
        "    Implements the Max-Value function for Alpha-Beta pruning.\n",
        "    \"\"\"\n",
        "    if is_terminal(node):\n",
        "        return node.value\n",
        "\n",
        "    v = float('-inf')\n",
        "    for child in node.children:\n",
        "        v = max(v, min_value(child, alpha, beta))\n",
        "        if v >= beta:\n",
        "            return v\n",
        "        alpha = max(alpha, v)\n",
        "    return v\n",
        "\n",
        "\n",
        "def min_value(node, alpha, beta):\n",
        "    \"\"\"\n",
        "    Implements the Min-Value function for Alpha-Beta pruning.\n",
        "    \"\"\"\n",
        "    if is_terminal(node):\n",
        "        return node.value\n",
        "\n",
        "    v = float('inf')\n",
        "    for child in node.children:\n",
        "        v = min(v, max_value(child, alpha, beta))\n",
        "        if v <= alpha:\n",
        "            return v\n",
        "        beta = min(beta, v)\n",
        "    return v\n",
        "\n",
        "\n",
        "def is_terminal(node):\n",
        "    \"\"\"\n",
        "    Checks if a node is a terminal node (leaf node).\n",
        "    \"\"\"\n",
        "    return len(node.children) == 0\n",
        "\n",
        "\n",
        "def build_tree():\n",
        "    \"\"\"\n",
        "    Builds a tree based on user input for leaf nodes.\n",
        "    \"\"\"\n",
        "    print(\"Building a binary tree for Alpha-Beta Pruning.\")\n",
        "    depth = int(input(\"Enter the depth of the tree (e.g., 2 or 3): \"))\n",
        "\n",
        "\n",
        "    num_leaf_nodes = 2 ** depth\n",
        "    print(f\"Enter values for {num_leaf_nodes} leaf nodes:\")\n",
        "\n",
        "\n",
        "    leaf_values = []\n",
        "    for i in range(num_leaf_nodes):\n",
        "        value = int(input(f\"Leaf {i+1} value: \"))\n",
        "        leaf_values.append(Node(value=value))\n",
        "\n",
        "\n",
        "    current_level = leaf_values\n",
        "    for _ in range(depth):\n",
        "        next_level = []\n",
        "        for i in range(0, len(current_level), 2):\n",
        "\n",
        "            parent = Node(children=[current_level[i], current_level[i+1]])\n",
        "            next_level.append(parent)\n",
        "        current_level = next_level\n",
        "\n",
        "\n",
        "    return current_level[0]\n",
        "\n",
        "\n",
        "\n",
        "\n",
        "if __name__ == \"__main__\":\n",
        "    root = build_tree()\n",
        "    alpha = float('-inf')\n",
        "    beta = float('inf')\n",
        "    result = max_value(root, alpha, beta)\n",
        "    print(\"Optimal Value:\", result)\n"
      ]
    }
  ]
}